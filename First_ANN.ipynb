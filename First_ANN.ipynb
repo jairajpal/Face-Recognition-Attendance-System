{
  "nbformat": 4,
  "nbformat_minor": 0,
  "metadata": {
    "colab": {
      "name": "First ANN.ipynb",
      "provenance": [],
      "collapsed_sections": [],
      "authorship_tag": "ABX9TyNZtTmEukVUaEPu3ayvzQ8j",
      "include_colab_link": true
    },
    "kernelspec": {
      "name": "python3",
      "display_name": "Python 3"
    }
  },
  "cells": [
    {
      "cell_type": "markdown",
      "metadata": {
        "id": "view-in-github",
        "colab_type": "text"
      },
      "source": [
        "<a href=\"https://colab.research.google.com/github/jairajpal/Face-Recognition-Attendance-System/blob/master/First_ANN.ipynb\" target=\"_parent\"><img src=\"https://colab.research.google.com/assets/colab-badge.svg\" alt=\"Open In Colab\"/></a>"
      ]
    },
    {
      "cell_type": "code",
      "metadata": {
        "id": "0fZrvgjXLvWK",
        "colab_type": "code",
        "colab": {
          "resources": {
            "http://localhost:8080/nbextensions/google.colab/files.js": {
              "data": "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",
              "ok": true,
              "headers": [
                [
                  "content-type",
                  "application/javascript"
                ]
              ],
              "status": 200,
              "status_text": ""
            }
          },
          "base_uri": "https://localhost:8080/",
          "height": 74
        },
        "outputId": "71b9198f-55ea-464e-a661-3afd742ecb3b"
      },
      "source": [
        "from google.colab import files\n",
        "uploaded = files.upload()"
      ],
      "execution_count": 10,
      "outputs": [
        {
          "output_type": "display_data",
          "data": {
            "text/html": [
              "\n",
              "     <input type=\"file\" id=\"files-4091be77-74d3-4f01-a9c4-e610aae544f5\" name=\"files[]\" multiple disabled\n",
              "        style=\"border:none\" />\n",
              "     <output id=\"result-4091be77-74d3-4f01-a9c4-e610aae544f5\">\n",
              "      Upload widget is only available when the cell has been executed in the\n",
              "      current browser session. Please rerun this cell to enable.\n",
              "      </output>\n",
              "      <script src=\"/nbextensions/google.colab/files.js\"></script> "
            ],
            "text/plain": [
              "<IPython.core.display.HTML object>"
            ]
          },
          "metadata": {
            "tags": []
          }
        },
        {
          "output_type": "stream",
          "text": [
            "Saving data.csv to data.csv\n"
          ],
          "name": "stdout"
        }
      ]
    },
    {
      "cell_type": "code",
      "metadata": {
        "id": "epj2jHKXLytL",
        "colab_type": "code",
        "colab": {}
      },
      "source": [
        "import pandas as pd\n",
        "data= pd.read_csv('data.csv')"
      ],
      "execution_count": 11,
      "outputs": []
    },
    {
      "cell_type": "code",
      "metadata": {
        "id": "gwzlb2YePv22",
        "colab_type": "code",
        "colab": {
          "base_uri": "https://localhost:8080/",
          "height": 232
        },
        "outputId": "b2a20569-383f-4342-f93e-6ab8a2336c5b"
      },
      "source": [
        "data.head()"
      ],
      "execution_count": 12,
      "outputs": [
        {
          "output_type": "execute_result",
          "data": {
            "text/html": [
              "<div>\n",
              "<style scoped>\n",
              "    .dataframe tbody tr th:only-of-type {\n",
              "        vertical-align: middle;\n",
              "    }\n",
              "\n",
              "    .dataframe tbody tr th {\n",
              "        vertical-align: top;\n",
              "    }\n",
              "\n",
              "    .dataframe thead th {\n",
              "        text-align: right;\n",
              "    }\n",
              "</style>\n",
              "<table border=\"1\" class=\"dataframe\">\n",
              "  <thead>\n",
              "    <tr style=\"text-align: right;\">\n",
              "      <th></th>\n",
              "      <th>id</th>\n",
              "      <th>diagnosis</th>\n",
              "      <th>radius_mean</th>\n",
              "      <th>texture_mean</th>\n",
              "      <th>perimeter_mean</th>\n",
              "      <th>area_mean</th>\n",
              "      <th>smoothness_mean</th>\n",
              "      <th>compactness_mean</th>\n",
              "      <th>concavity_mean</th>\n",
              "      <th>concave points_mean</th>\n",
              "      <th>symmetry_mean</th>\n",
              "      <th>fractal_dimension_mean</th>\n",
              "      <th>radius_se</th>\n",
              "      <th>texture_se</th>\n",
              "      <th>perimeter_se</th>\n",
              "      <th>area_se</th>\n",
              "      <th>smoothness_se</th>\n",
              "      <th>compactness_se</th>\n",
              "      <th>concavity_se</th>\n",
              "      <th>concave points_se</th>\n",
              "      <th>symmetry_se</th>\n",
              "      <th>fractal_dimension_se</th>\n",
              "      <th>radius_worst</th>\n",
              "      <th>texture_worst</th>\n",
              "      <th>perimeter_worst</th>\n",
              "      <th>area_worst</th>\n",
              "      <th>smoothness_worst</th>\n",
              "      <th>compactness_worst</th>\n",
              "      <th>concavity_worst</th>\n",
              "      <th>concave points_worst</th>\n",
              "      <th>symmetry_worst</th>\n",
              "      <th>fractal_dimension_worst</th>\n",
              "      <th>Unnamed: 32</th>\n",
              "    </tr>\n",
              "  </thead>\n",
              "  <tbody>\n",
              "    <tr>\n",
              "      <th>0</th>\n",
              "      <td>842302</td>\n",
              "      <td>M</td>\n",
              "      <td>17.99</td>\n",
              "      <td>10.38</td>\n",
              "      <td>122.80</td>\n",
              "      <td>1001.0</td>\n",
              "      <td>0.11840</td>\n",
              "      <td>0.27760</td>\n",
              "      <td>0.3001</td>\n",
              "      <td>0.14710</td>\n",
              "      <td>0.2419</td>\n",
              "      <td>0.07871</td>\n",
              "      <td>1.0950</td>\n",
              "      <td>0.9053</td>\n",
              "      <td>8.589</td>\n",
              "      <td>153.40</td>\n",
              "      <td>0.006399</td>\n",
              "      <td>0.04904</td>\n",
              "      <td>0.05373</td>\n",
              "      <td>0.01587</td>\n",
              "      <td>0.03003</td>\n",
              "      <td>0.006193</td>\n",
              "      <td>25.38</td>\n",
              "      <td>17.33</td>\n",
              "      <td>184.60</td>\n",
              "      <td>2019.0</td>\n",
              "      <td>0.1622</td>\n",
              "      <td>0.6656</td>\n",
              "      <td>0.7119</td>\n",
              "      <td>0.2654</td>\n",
              "      <td>0.4601</td>\n",
              "      <td>0.11890</td>\n",
              "      <td>NaN</td>\n",
              "    </tr>\n",
              "    <tr>\n",
              "      <th>1</th>\n",
              "      <td>842517</td>\n",
              "      <td>M</td>\n",
              "      <td>20.57</td>\n",
              "      <td>17.77</td>\n",
              "      <td>132.90</td>\n",
              "      <td>1326.0</td>\n",
              "      <td>0.08474</td>\n",
              "      <td>0.07864</td>\n",
              "      <td>0.0869</td>\n",
              "      <td>0.07017</td>\n",
              "      <td>0.1812</td>\n",
              "      <td>0.05667</td>\n",
              "      <td>0.5435</td>\n",
              "      <td>0.7339</td>\n",
              "      <td>3.398</td>\n",
              "      <td>74.08</td>\n",
              "      <td>0.005225</td>\n",
              "      <td>0.01308</td>\n",
              "      <td>0.01860</td>\n",
              "      <td>0.01340</td>\n",
              "      <td>0.01389</td>\n",
              "      <td>0.003532</td>\n",
              "      <td>24.99</td>\n",
              "      <td>23.41</td>\n",
              "      <td>158.80</td>\n",
              "      <td>1956.0</td>\n",
              "      <td>0.1238</td>\n",
              "      <td>0.1866</td>\n",
              "      <td>0.2416</td>\n",
              "      <td>0.1860</td>\n",
              "      <td>0.2750</td>\n",
              "      <td>0.08902</td>\n",
              "      <td>NaN</td>\n",
              "    </tr>\n",
              "    <tr>\n",
              "      <th>2</th>\n",
              "      <td>84300903</td>\n",
              "      <td>M</td>\n",
              "      <td>19.69</td>\n",
              "      <td>21.25</td>\n",
              "      <td>130.00</td>\n",
              "      <td>1203.0</td>\n",
              "      <td>0.10960</td>\n",
              "      <td>0.15990</td>\n",
              "      <td>0.1974</td>\n",
              "      <td>0.12790</td>\n",
              "      <td>0.2069</td>\n",
              "      <td>0.05999</td>\n",
              "      <td>0.7456</td>\n",
              "      <td>0.7869</td>\n",
              "      <td>4.585</td>\n",
              "      <td>94.03</td>\n",
              "      <td>0.006150</td>\n",
              "      <td>0.04006</td>\n",
              "      <td>0.03832</td>\n",
              "      <td>0.02058</td>\n",
              "      <td>0.02250</td>\n",
              "      <td>0.004571</td>\n",
              "      <td>23.57</td>\n",
              "      <td>25.53</td>\n",
              "      <td>152.50</td>\n",
              "      <td>1709.0</td>\n",
              "      <td>0.1444</td>\n",
              "      <td>0.4245</td>\n",
              "      <td>0.4504</td>\n",
              "      <td>0.2430</td>\n",
              "      <td>0.3613</td>\n",
              "      <td>0.08758</td>\n",
              "      <td>NaN</td>\n",
              "    </tr>\n",
              "    <tr>\n",
              "      <th>3</th>\n",
              "      <td>84348301</td>\n",
              "      <td>M</td>\n",
              "      <td>11.42</td>\n",
              "      <td>20.38</td>\n",
              "      <td>77.58</td>\n",
              "      <td>386.1</td>\n",
              "      <td>0.14250</td>\n",
              "      <td>0.28390</td>\n",
              "      <td>0.2414</td>\n",
              "      <td>0.10520</td>\n",
              "      <td>0.2597</td>\n",
              "      <td>0.09744</td>\n",
              "      <td>0.4956</td>\n",
              "      <td>1.1560</td>\n",
              "      <td>3.445</td>\n",
              "      <td>27.23</td>\n",
              "      <td>0.009110</td>\n",
              "      <td>0.07458</td>\n",
              "      <td>0.05661</td>\n",
              "      <td>0.01867</td>\n",
              "      <td>0.05963</td>\n",
              "      <td>0.009208</td>\n",
              "      <td>14.91</td>\n",
              "      <td>26.50</td>\n",
              "      <td>98.87</td>\n",
              "      <td>567.7</td>\n",
              "      <td>0.2098</td>\n",
              "      <td>0.8663</td>\n",
              "      <td>0.6869</td>\n",
              "      <td>0.2575</td>\n",
              "      <td>0.6638</td>\n",
              "      <td>0.17300</td>\n",
              "      <td>NaN</td>\n",
              "    </tr>\n",
              "    <tr>\n",
              "      <th>4</th>\n",
              "      <td>84358402</td>\n",
              "      <td>M</td>\n",
              "      <td>20.29</td>\n",
              "      <td>14.34</td>\n",
              "      <td>135.10</td>\n",
              "      <td>1297.0</td>\n",
              "      <td>0.10030</td>\n",
              "      <td>0.13280</td>\n",
              "      <td>0.1980</td>\n",
              "      <td>0.10430</td>\n",
              "      <td>0.1809</td>\n",
              "      <td>0.05883</td>\n",
              "      <td>0.7572</td>\n",
              "      <td>0.7813</td>\n",
              "      <td>5.438</td>\n",
              "      <td>94.44</td>\n",
              "      <td>0.011490</td>\n",
              "      <td>0.02461</td>\n",
              "      <td>0.05688</td>\n",
              "      <td>0.01885</td>\n",
              "      <td>0.01756</td>\n",
              "      <td>0.005115</td>\n",
              "      <td>22.54</td>\n",
              "      <td>16.67</td>\n",
              "      <td>152.20</td>\n",
              "      <td>1575.0</td>\n",
              "      <td>0.1374</td>\n",
              "      <td>0.2050</td>\n",
              "      <td>0.4000</td>\n",
              "      <td>0.1625</td>\n",
              "      <td>0.2364</td>\n",
              "      <td>0.07678</td>\n",
              "      <td>NaN</td>\n",
              "    </tr>\n",
              "  </tbody>\n",
              "</table>\n",
              "</div>"
            ],
            "text/plain": [
              "         id diagnosis  ...  fractal_dimension_worst  Unnamed: 32\n",
              "0    842302         M  ...                  0.11890          NaN\n",
              "1    842517         M  ...                  0.08902          NaN\n",
              "2  84300903         M  ...                  0.08758          NaN\n",
              "3  84348301         M  ...                  0.17300          NaN\n",
              "4  84358402         M  ...                  0.07678          NaN\n",
              "\n",
              "[5 rows x 33 columns]"
            ]
          },
          "metadata": {
            "tags": []
          },
          "execution_count": 12
        }
      ]
    },
    {
      "cell_type": "code",
      "metadata": {
        "id": "Y-vvWqdcPxDm",
        "colab_type": "code",
        "colab": {
          "base_uri": "https://localhost:8080/",
          "height": 370
        },
        "outputId": "ee6c3401-e644-46eb-e4c5-51df083d1f82"
      },
      "source": [
        "import seaborn as sns\n",
        "ax = sns.countplot(data['diagnosis'],label='Count')\n",
        "B,M = data['diagnosis'].value_counts()\n",
        "print('Bengin',B)\n",
        "print('Malignanat',M)"
      ],
      "execution_count": 13,
      "outputs": [
        {
          "output_type": "stream",
          "text": [
            "/usr/local/lib/python3.6/dist-packages/statsmodels/tools/_testing.py:19: FutureWarning: pandas.util.testing is deprecated. Use the functions in the public API at pandas.testing instead.\n",
            "  import pandas.util.testing as tm\n"
          ],
          "name": "stderr"
        },
        {
          "output_type": "stream",
          "text": [
            "Bengin 357\n",
            "Malignanat 212\n"
          ],
          "name": "stdout"
        },
        {
          "output_type": "display_data",
          "data": {
            "image/png": "[encoded data removed]",
            "text/plain": [
              "<Figure size 432x288 with 1 Axes>"
            ]
          },
          "metadata": {
            "tags": [],
            "needs_background": "light"
          }
        }
      ]
    },
    {
      "cell_type": "code",
      "metadata": {
        "id": "z8ztMNpeQjuW",
        "colab_type": "code",
        "colab": {}
      },
      "source": [
        "import numpy as np\n",
        "del data['Unnamed: 32']"
      ],
      "execution_count": 14,
      "outputs": []
    },
    {
      "cell_type": "code",
      "metadata": {
        "id": "_73LqkCBRvHr",
        "colab_type": "code",
        "colab": {}
      },
      "source": [
        "X= data.iloc[:,2:].values\n",
        "y=data.iloc[:,1].values"
      ],
      "execution_count": 15,
      "outputs": []
    },
    {
      "cell_type": "code",
      "metadata": {
        "id": "217zbrpkR9Zi",
        "colab_type": "code",
        "colab": {}
      },
      "source": [
        "from sklearn.preprocessing import LabelEncoder\n",
        "labelencoder_x_1 = LabelEncoder()\n",
        "y = labelencoder_x_1.fit_transform(y)\n",
        "\n",
        "from sklearn.model_selection import train_test_split\n",
        "X_train,X_test,y_tran,y_test=train_test_split(X,y, test_size=0.1, random_state=0)\n",
        "\n",
        "from sklearn.preprocessing import StandardScaler\n",
        "sc= StandardScaler()\n",
        "X_train = sc.fit_transform(X_train)\n",
        "X_test = sc.transform(X_test)"
      ],
      "execution_count": 19,
      "outputs": []
    },
    {
      "cell_type": "code",
      "metadata": {
        "id": "kv0h2zlaR_en",
        "colab_type": "code",
        "colab": {
          "base_uri": "https://localhost:8080/",
          "height": 246
        },
        "outputId": "bf99ff3b-2e84-4798-89c7-9c86c711f79a"
      },
      "source": [
        "X_train"
      ],
      "execution_count": 20,
      "outputs": [
        {
          "output_type": "execute_result",
          "data": {
            "text/plain": [
              "array([[-0.52787029,  2.49821982, -0.59939466, ..., -1.74713139,\n",
              "        -0.79044533, -0.91054389],\n",
              "       [-0.55333608,  0.29431013, -0.60759343, ..., -0.62275667,\n",
              "        -0.33646358, -0.83551633],\n",
              "       [ 2.15452653,  0.40392257,  2.26525805, ...,  1.03846122,\n",
              "        -0.11504791,  0.26488788],\n",
              "       ...,\n",
              "       [-1.3297598 , -0.21876938, -1.32088704, ..., -0.98271999,\n",
              "        -0.718764  , -0.13637062],\n",
              "       [-1.24940108, -0.24209117, -1.2835826 , ..., -1.74713139,\n",
              "        -1.58690456, -1.01280367],\n",
              "       [-0.74291476,  1.08958336, -0.71827692, ..., -0.2865488 ,\n",
              "        -1.26354211,  0.19486216]])"
            ]
          },
          "metadata": {
            "tags": []
          },
          "execution_count": 20
        }
      ]
    },
    {
      "cell_type": "code",
      "metadata": {
        "id": "hfPjMLQqTenl",
        "colab_type": "code",
        "colab": {
          "base_uri": "https://localhost:8080/",
          "height": 122
        },
        "outputId": "570cc4d1-51bb-4472-9501-5fa944f9fbc6"
      },
      "source": [
        "!pip install keras"
      ],
      "execution_count": 21,
      "outputs": [
        {
          "output_type": "stream",
          "text": [
            "Requirement already satisfied: keras in /usr/local/lib/python3.6/dist-packages (2.4.3)\n",
            "Requirement already satisfied: numpy>=1.9.1 in /usr/local/lib/python3.6/dist-packages (from keras) (1.18.5)\n",
            "Requirement already satisfied: pyyaml in /usr/local/lib/python3.6/dist-packages (from keras) (3.13)\n",
            "Requirement already satisfied: h5py in /usr/local/lib/python3.6/dist-packages (from keras) (2.10.0)\n",
            "Requirement already satisfied: scipy>=0.14 in /usr/local/lib/python3.6/dist-packages (from keras) (1.4.1)\n",
            "Requirement already satisfied: six in /usr/local/lib/python3.6/dist-packages (from h5py->keras) (1.15.0)\n"
          ],
          "name": "stdout"
        }
      ]
    },
    {
      "cell_type": "code",
      "metadata": {
        "id": "h860rUUlVCvK",
        "colab_type": "code",
        "colab": {}
      },
      "source": [
        "import keras\n",
        "from keras.models import Sequential\n",
        "from keras.layers import Dense"
      ],
      "execution_count": 25,
      "outputs": []
    },
    {
      "cell_type": "code",
      "metadata": {
        "id": "6GjMCFs2VjKA",
        "colab_type": "code",
        "colab": {}
      },
      "source": [
        "classifier = Sequential()\n",
        "classifier.add(Dense(16,kernel_initializer='uniform', activation='relu',input_dim=30))\n",
        "classifier.add(Dense(16, kernel_initializer='uniform', activation='relu'))  \n",
        "classifier.add(Dense(1, kernel_initializer='uniform', activation='sigmoid'))  "
      ],
      "execution_count": 30,
      "outputs": []
    },
    {
      "cell_type": "code",
      "metadata": {
        "id": "gMUkedV4XbSx",
        "colab_type": "code",
        "colab": {}
      },
      "source": [
        "classifier.compile(optimizer='Adam', loss='binary_crossentropy',metrics='accuracy')"
      ],
      "execution_count": 31,
      "outputs": []
    },
    {
      "cell_type": "code",
      "metadata": {
        "id": "lSH2AfomXbty",
        "colab_type": "code",
        "colab": {
          "base_uri": "https://localhost:8080/",
          "height": 1000
        },
        "outputId": "23d85dfd-3834-4863-a43e-4ee18ce30df2"
      },
      "source": [
        "classifier.fit(X_train,y_tran,batch_size=100,epochs=150)"
      ],
      "execution_count": 34,
      "outputs": [
        {
          "output_type": "stream",
          "text": [
            "Epoch 1/150\n",
            "6/6 [==============================] - 0s 4ms/step - loss: 0.6924 - accuracy: 0.6250\n",
            "Epoch 2/150\n",
            "6/6 [==============================] - 0s 1ms/step - loss: 0.6901 - accuracy: 0.6289\n",
            "Epoch 3/150\n",
            "6/6 [==============================] - 0s 1ms/step - loss: 0.6867 - accuracy: 0.6309\n",
            "Epoch 4/150\n",
            "6/6 [==============================] - 0s 2ms/step - loss: 0.6808 - accuracy: 0.6328\n",
            "Epoch 5/150\n",
            "6/6 [==============================] - 0s 1ms/step - loss: 0.6709 - accuracy: 0.6660\n",
            "Epoch 6/150\n",
            "6/6 [==============================] - 0s 2ms/step - loss: 0.6558 - accuracy: 0.7402\n",
            "Epoch 7/150\n",
            "6/6 [==============================] - 0s 2ms/step - loss: 0.6341 - accuracy: 0.8398\n",
            "Epoch 8/150\n",
            "6/6 [==============================] - 0s 1ms/step - loss: 0.6041 - accuracy: 0.8926\n",
            "Epoch 9/150\n",
            "6/6 [==============================] - 0s 2ms/step - loss: 0.5664 - accuracy: 0.9199\n",
            "Epoch 10/150\n",
            "6/6 [==============================] - 0s 2ms/step - loss: 0.5222 - accuracy: 0.9297\n",
            "Epoch 11/150\n",
            "6/6 [==============================] - 0s 2ms/step - loss: 0.4742 - accuracy: 0.9336\n",
            "Epoch 12/150\n",
            "6/6 [==============================] - 0s 2ms/step - loss: 0.4254 - accuracy: 0.9355\n",
            "Epoch 13/150\n",
            "6/6 [==============================] - 0s 2ms/step - loss: 0.3804 - accuracy: 0.9434\n",
            "Epoch 14/150\n",
            "6/6 [==============================] - 0s 1ms/step - loss: 0.3399 - accuracy: 0.9395\n",
            "Epoch 15/150\n",
            "6/6 [==============================] - 0s 1ms/step - loss: 0.3053 - accuracy: 0.9395\n",
            "Epoch 16/150\n",
            "6/6 [==============================] - 0s 2ms/step - loss: 0.2748 - accuracy: 0.9414\n",
            "Epoch 17/150\n",
            "6/6 [==============================] - 0s 2ms/step - loss: 0.2489 - accuracy: 0.9434\n",
            "Epoch 18/150\n",
            "6/6 [==============================] - 0s 2ms/step - loss: 0.2262 - accuracy: 0.9434\n",
            "Epoch 19/150\n",
            "6/6 [==============================] - 0s 2ms/step - loss: 0.2063 - accuracy: 0.9492\n",
            "Epoch 20/150\n",
            "6/6 [==============================] - 0s 2ms/step - loss: 0.1886 - accuracy: 0.9551\n",
            "Epoch 21/150\n",
            "6/6 [==============================] - 0s 1ms/step - loss: 0.1732 - accuracy: 0.9551\n",
            "Epoch 22/150\n",
            "6/6 [==============================] - 0s 2ms/step - loss: 0.1597 - accuracy: 0.9629\n",
            "Epoch 23/150\n",
            "6/6 [==============================] - 0s 2ms/step - loss: 0.1484 - accuracy: 0.9629\n",
            "Epoch 24/150\n",
            "6/6 [==============================] - 0s 2ms/step - loss: 0.1387 - accuracy: 0.9668\n",
            "Epoch 25/150\n",
            "6/6 [==============================] - 0s 2ms/step - loss: 0.1305 - accuracy: 0.9707\n",
            "Epoch 26/150\n",
            "6/6 [==============================] - 0s 1ms/step - loss: 0.1231 - accuracy: 0.9707\n",
            "Epoch 27/150\n",
            "6/6 [==============================] - 0s 2ms/step - loss: 0.1167 - accuracy: 0.9707\n",
            "Epoch 28/150\n",
            "6/6 [==============================] - 0s 1ms/step - loss: 0.1112 - accuracy: 0.9727\n",
            "Epoch 29/150\n",
            "6/6 [==============================] - 0s 2ms/step - loss: 0.1067 - accuracy: 0.9766\n",
            "Epoch 30/150\n",
            "6/6 [==============================] - 0s 2ms/step - loss: 0.1026 - accuracy: 0.9805\n",
            "Epoch 31/150\n",
            "6/6 [==============================] - 0s 2ms/step - loss: 0.0991 - accuracy: 0.9805\n",
            "Epoch 32/150\n",
            "6/6 [==============================] - 0s 2ms/step - loss: 0.0956 - accuracy: 0.9805\n",
            "Epoch 33/150\n",
            "6/6 [==============================] - 0s 1ms/step - loss: 0.0926 - accuracy: 0.9805\n",
            "Epoch 34/150\n",
            "6/6 [==============================] - 0s 2ms/step - loss: 0.0898 - accuracy: 0.9824\n",
            "Epoch 35/150\n",
            "6/6 [==============================] - 0s 2ms/step - loss: 0.0871 - accuracy: 0.9844\n",
            "Epoch 36/150\n",
            "6/6 [==============================] - 0s 2ms/step - loss: 0.0855 - accuracy: 0.9844\n",
            "Epoch 37/150\n",
            "6/6 [==============================] - 0s 2ms/step - loss: 0.0836 - accuracy: 0.9844\n",
            "Epoch 38/150\n",
            "6/6 [==============================] - 0s 2ms/step - loss: 0.0818 - accuracy: 0.9863\n",
            "Epoch 39/150\n",
            "6/6 [==============================] - 0s 2ms/step - loss: 0.0800 - accuracy: 0.9863\n",
            "Epoch 40/150\n",
            "6/6 [==============================] - 0s 2ms/step - loss: 0.0785 - accuracy: 0.9863\n",
            "Epoch 41/150\n",
            "6/6 [==============================] - 0s 2ms/step - loss: 0.0772 - accuracy: 0.9863\n",
            "Epoch 42/150\n",
            "6/6 [==============================] - 0s 1ms/step - loss: 0.0761 - accuracy: 0.9863\n",
            "Epoch 43/150\n",
            "6/6 [==============================] - 0s 2ms/step - loss: 0.0750 - accuracy: 0.9863\n",
            "Epoch 44/150\n",
            "6/6 [==============================] - 0s 1ms/step - loss: 0.0739 - accuracy: 0.9863\n",
            "Epoch 45/150\n",
            "6/6 [==============================] - 0s 2ms/step - loss: 0.0728 - accuracy: 0.9863\n",
            "Epoch 46/150\n",
            "6/6 [==============================] - 0s 2ms/step - loss: 0.0717 - accuracy: 0.9863\n",
            "Epoch 47/150\n",
            "6/6 [==============================] - 0s 1ms/step - loss: 0.0709 - accuracy: 0.9863\n",
            "Epoch 48/150\n",
            "6/6 [==============================] - 0s 2ms/step - loss: 0.0702 - accuracy: 0.9863\n",
            "Epoch 49/150\n",
            "6/6 [==============================] - 0s 2ms/step - loss: 0.0691 - accuracy: 0.9863\n",
            "Epoch 50/150\n",
            "6/6 [==============================] - 0s 2ms/step - loss: 0.0684 - accuracy: 0.9863\n",
            "Epoch 51/150\n",
            "6/6 [==============================] - 0s 2ms/step - loss: 0.0677 - accuracy: 0.9863\n",
            "Epoch 52/150\n",
            "6/6 [==============================] - 0s 2ms/step - loss: 0.0669 - accuracy: 0.9863\n",
            "Epoch 53/150\n",
            "6/6 [==============================] - 0s 2ms/step - loss: 0.0665 - accuracy: 0.9844\n",
            "Epoch 54/150\n",
            "6/6 [==============================] - 0s 1ms/step - loss: 0.0659 - accuracy: 0.9844\n",
            "Epoch 55/150\n",
            "6/6 [==============================] - 0s 2ms/step - loss: 0.0651 - accuracy: 0.9844\n",
            "Epoch 56/150\n",
            "6/6 [==============================] - 0s 2ms/step - loss: 0.0647 - accuracy: 0.9844\n",
            "Epoch 57/150\n",
            "6/6 [==============================] - 0s 1ms/step - loss: 0.0641 - accuracy: 0.9844\n",
            "Epoch 58/150\n",
            "6/6 [==============================] - 0s 2ms/step - loss: 0.0636 - accuracy: 0.9844\n",
            "Epoch 59/150\n",
            "6/6 [==============================] - 0s 2ms/step - loss: 0.0633 - accuracy: 0.9844\n",
            "Epoch 60/150\n",
            "6/6 [==============================] - 0s 1ms/step - loss: 0.0627 - accuracy: 0.9844\n",
            "Epoch 61/150\n",
            "6/6 [==============================] - 0s 1ms/step - loss: 0.0622 - accuracy: 0.9844\n",
            "Epoch 62/150\n",
            "6/6 [==============================] - 0s 1ms/step - loss: 0.0618 - accuracy: 0.9844\n",
            "Epoch 63/150\n",
            "6/6 [==============================] - 0s 2ms/step - loss: 0.0614 - accuracy: 0.9844\n",
            "Epoch 64/150\n",
            "6/6 [==============================] - 0s 2ms/step - loss: 0.0609 - accuracy: 0.9844\n",
            "Epoch 65/150\n",
            "6/6 [==============================] - 0s 2ms/step - loss: 0.0603 - accuracy: 0.9844\n",
            "Epoch 66/150\n",
            "6/6 [==============================] - 0s 2ms/step - loss: 0.0599 - accuracy: 0.9844\n",
            "Epoch 67/150\n",
            "6/6 [==============================] - 0s 2ms/step - loss: 0.0597 - accuracy: 0.9844\n",
            "Epoch 68/150\n",
            "6/6 [==============================] - 0s 2ms/step - loss: 0.0594 - accuracy: 0.9844\n",
            "Epoch 69/150\n",
            "6/6 [==============================] - 0s 2ms/step - loss: 0.0589 - accuracy: 0.9844\n",
            "Epoch 70/150\n",
            "6/6 [==============================] - 0s 2ms/step - loss: 0.0584 - accuracy: 0.9844\n",
            "Epoch 71/150\n",
            "6/6 [==============================] - 0s 2ms/step - loss: 0.0579 - accuracy: 0.9844\n",
            "Epoch 72/150\n",
            "6/6 [==============================] - 0s 2ms/step - loss: 0.0575 - accuracy: 0.9844\n",
            "Epoch 73/150\n",
            "6/6 [==============================] - 0s 2ms/step - loss: 0.0570 - accuracy: 0.9844\n",
            "Epoch 74/150\n",
            "6/6 [==============================] - 0s 2ms/step - loss: 0.0566 - accuracy: 0.9844\n",
            "Epoch 75/150\n",
            "6/6 [==============================] - 0s 2ms/step - loss: 0.0563 - accuracy: 0.9844\n",
            "Epoch 76/150\n",
            "6/6 [==============================] - 0s 2ms/step - loss: 0.0558 - accuracy: 0.9844\n",
            "Epoch 77/150\n",
            "6/6 [==============================] - 0s 2ms/step - loss: 0.0555 - accuracy: 0.9844\n",
            "Epoch 78/150\n",
            "6/6 [==============================] - 0s 2ms/step - loss: 0.0551 - accuracy: 0.9844\n",
            "Epoch 79/150\n",
            "6/6 [==============================] - 0s 1ms/step - loss: 0.0549 - accuracy: 0.9844\n",
            "Epoch 80/150\n",
            "6/6 [==============================] - 0s 2ms/step - loss: 0.0543 - accuracy: 0.9844\n",
            "Epoch 81/150\n",
            "6/6 [==============================] - 0s 2ms/step - loss: 0.0542 - accuracy: 0.9844\n",
            "Epoch 82/150\n",
            "6/6 [==============================] - 0s 2ms/step - loss: 0.0540 - accuracy: 0.9844\n",
            "Epoch 83/150\n",
            "6/6 [==============================] - 0s 1ms/step - loss: 0.0542 - accuracy: 0.9844\n",
            "Epoch 84/150\n",
            "6/6 [==============================] - 0s 2ms/step - loss: 0.0538 - accuracy: 0.9844\n",
            "Epoch 85/150\n",
            "6/6 [==============================] - 0s 2ms/step - loss: 0.0533 - accuracy: 0.9844\n",
            "Epoch 86/150\n",
            "6/6 [==============================] - 0s 2ms/step - loss: 0.0529 - accuracy: 0.9844\n",
            "Epoch 87/150\n",
            "6/6 [==============================] - 0s 2ms/step - loss: 0.0523 - accuracy: 0.9844\n",
            "Epoch 88/150\n",
            "6/6 [==============================] - 0s 2ms/step - loss: 0.0520 - accuracy: 0.9844\n",
            "Epoch 89/150\n",
            "6/6 [==============================] - 0s 2ms/step - loss: 0.0516 - accuracy: 0.9844\n",
            "Epoch 90/150\n",
            "6/6 [==============================] - 0s 2ms/step - loss: 0.0514 - accuracy: 0.9863\n",
            "Epoch 91/150\n",
            "6/6 [==============================] - 0s 2ms/step - loss: 0.0510 - accuracy: 0.9863\n",
            "Epoch 92/150\n",
            "6/6 [==============================] - 0s 2ms/step - loss: 0.0508 - accuracy: 0.9863\n",
            "Epoch 93/150\n",
            "6/6 [==============================] - 0s 2ms/step - loss: 0.0505 - accuracy: 0.9863\n",
            "Epoch 94/150\n",
            "6/6 [==============================] - 0s 2ms/step - loss: 0.0503 - accuracy: 0.9863\n",
            "Epoch 95/150\n",
            "6/6 [==============================] - 0s 2ms/step - loss: 0.0500 - accuracy: 0.9863\n",
            "Epoch 96/150\n",
            "6/6 [==============================] - 0s 2ms/step - loss: 0.0497 - accuracy: 0.9883\n",
            "Epoch 97/150\n",
            "6/6 [==============================] - 0s 2ms/step - loss: 0.0495 - accuracy: 0.9883\n",
            "Epoch 98/150\n",
            "6/6 [==============================] - 0s 2ms/step - loss: 0.0492 - accuracy: 0.9883\n",
            "Epoch 99/150\n",
            "6/6 [==============================] - 0s 2ms/step - loss: 0.0489 - accuracy: 0.9883\n",
            "Epoch 100/150\n",
            "6/6 [==============================] - 0s 2ms/step - loss: 0.0487 - accuracy: 0.9883\n",
            "Epoch 101/150\n",
            "6/6 [==============================] - 0s 1ms/step - loss: 0.0486 - accuracy: 0.9883\n",
            "Epoch 102/150\n",
            "6/6 [==============================] - 0s 2ms/step - loss: 0.0483 - accuracy: 0.9883\n",
            "Epoch 103/150\n",
            "6/6 [==============================] - 0s 2ms/step - loss: 0.0480 - accuracy: 0.9883\n",
            "Epoch 104/150\n",
            "6/6 [==============================] - 0s 2ms/step - loss: 0.0478 - accuracy: 0.9883\n",
            "Epoch 105/150\n",
            "6/6 [==============================] - 0s 2ms/step - loss: 0.0474 - accuracy: 0.9883\n",
            "Epoch 106/150\n",
            "6/6 [==============================] - 0s 2ms/step - loss: 0.0473 - accuracy: 0.9883\n",
            "Epoch 107/150\n",
            "6/6 [==============================] - 0s 2ms/step - loss: 0.0469 - accuracy: 0.9883\n",
            "Epoch 108/150\n",
            "6/6 [==============================] - 0s 2ms/step - loss: 0.0469 - accuracy: 0.9883\n",
            "Epoch 109/150\n",
            "6/6 [==============================] - 0s 2ms/step - loss: 0.0468 - accuracy: 0.9883\n",
            "Epoch 110/150\n",
            "6/6 [==============================] - 0s 2ms/step - loss: 0.0467 - accuracy: 0.9902\n",
            "Epoch 111/150\n",
            "6/6 [==============================] - 0s 2ms/step - loss: 0.0462 - accuracy: 0.9902\n",
            "Epoch 112/150\n",
            "6/6 [==============================] - 0s 2ms/step - loss: 0.0459 - accuracy: 0.9902\n",
            "Epoch 113/150\n",
            "6/6 [==============================] - 0s 3ms/step - loss: 0.0455 - accuracy: 0.9902\n",
            "Epoch 114/150\n",
            "6/6 [==============================] - 0s 2ms/step - loss: 0.0453 - accuracy: 0.9883\n",
            "Epoch 115/150\n",
            "6/6 [==============================] - 0s 2ms/step - loss: 0.0450 - accuracy: 0.9883\n",
            "Epoch 116/150\n",
            "6/6 [==============================] - 0s 2ms/step - loss: 0.0448 - accuracy: 0.9883\n",
            "Epoch 117/150\n",
            "6/6 [==============================] - 0s 2ms/step - loss: 0.0445 - accuracy: 0.9883\n",
            "Epoch 118/150\n",
            "6/6 [==============================] - 0s 2ms/step - loss: 0.0443 - accuracy: 0.9883\n",
            "Epoch 119/150\n",
            "6/6 [==============================] - 0s 2ms/step - loss: 0.0440 - accuracy: 0.9883\n",
            "Epoch 120/150\n",
            "6/6 [==============================] - 0s 2ms/step - loss: 0.0437 - accuracy: 0.9883\n",
            "Epoch 121/150\n",
            "6/6 [==============================] - 0s 2ms/step - loss: 0.0435 - accuracy: 0.9922\n",
            "Epoch 122/150\n",
            "6/6 [==============================] - 0s 2ms/step - loss: 0.0433 - accuracy: 0.9922\n",
            "Epoch 123/150\n",
            "6/6 [==============================] - 0s 2ms/step - loss: 0.0432 - accuracy: 0.9902\n",
            "Epoch 124/150\n",
            "6/6 [==============================] - 0s 2ms/step - loss: 0.0429 - accuracy: 0.9922\n",
            "Epoch 125/150\n",
            "6/6 [==============================] - 0s 2ms/step - loss: 0.0428 - accuracy: 0.9902\n",
            "Epoch 126/150\n",
            "6/6 [==============================] - 0s 2ms/step - loss: 0.0426 - accuracy: 0.9883\n",
            "Epoch 127/150\n",
            "6/6 [==============================] - 0s 2ms/step - loss: 0.0422 - accuracy: 0.9922\n",
            "Epoch 128/150\n",
            "6/6 [==============================] - 0s 2ms/step - loss: 0.0419 - accuracy: 0.9922\n",
            "Epoch 129/150\n",
            "6/6 [==============================] - 0s 2ms/step - loss: 0.0417 - accuracy: 0.9922\n",
            "Epoch 130/150\n",
            "6/6 [==============================] - 0s 2ms/step - loss: 0.0415 - accuracy: 0.9922\n",
            "Epoch 131/150\n",
            "6/6 [==============================] - 0s 2ms/step - loss: 0.0412 - accuracy: 0.9922\n",
            "Epoch 132/150\n",
            "6/6 [==============================] - 0s 2ms/step - loss: 0.0410 - accuracy: 0.9922\n",
            "Epoch 133/150\n",
            "6/6 [==============================] - 0s 2ms/step - loss: 0.0409 - accuracy: 0.9922\n",
            "Epoch 134/150\n",
            "6/6 [==============================] - 0s 2ms/step - loss: 0.0407 - accuracy: 0.9922\n",
            "Epoch 135/150\n",
            "6/6 [==============================] - 0s 2ms/step - loss: 0.0405 - accuracy: 0.9922\n",
            "Epoch 136/150\n",
            "6/6 [==============================] - 0s 2ms/step - loss: 0.0403 - accuracy: 0.9922\n",
            "Epoch 137/150\n",
            "6/6 [==============================] - 0s 2ms/step - loss: 0.0401 - accuracy: 0.9922\n",
            "Epoch 138/150\n",
            "6/6 [==============================] - 0s 2ms/step - loss: 0.0400 - accuracy: 0.9922\n",
            "Epoch 139/150\n",
            "6/6 [==============================] - 0s 2ms/step - loss: 0.0397 - accuracy: 0.9922\n",
            "Epoch 140/150\n",
            "6/6 [==============================] - 0s 2ms/step - loss: 0.0395 - accuracy: 0.9922\n",
            "Epoch 141/150\n",
            "6/6 [==============================] - 0s 2ms/step - loss: 0.0393 - accuracy: 0.9922\n",
            "Epoch 142/150\n",
            "6/6 [==============================] - 0s 2ms/step - loss: 0.0391 - accuracy: 0.9922\n",
            "Epoch 143/150\n",
            "6/6 [==============================] - 0s 2ms/step - loss: 0.0390 - accuracy: 0.9922\n",
            "Epoch 144/150\n",
            "6/6 [==============================] - 0s 1ms/step - loss: 0.0388 - accuracy: 0.9922\n",
            "Epoch 145/150\n",
            "6/6 [==============================] - 0s 2ms/step - loss: 0.0386 - accuracy: 0.9922\n",
            "Epoch 146/150\n",
            "6/6 [==============================] - 0s 2ms/step - loss: 0.0383 - accuracy: 0.9922\n",
            "Epoch 147/150\n",
            "6/6 [==============================] - 0s 2ms/step - loss: 0.0383 - accuracy: 0.9922\n",
            "Epoch 148/150\n",
            "6/6 [==============================] - 0s 2ms/step - loss: 0.0381 - accuracy: 0.9922\n",
            "Epoch 149/150\n",
            "6/6 [==============================] - 0s 2ms/step - loss: 0.0381 - accuracy: 0.9922\n",
            "Epoch 150/150\n",
            "6/6 [==============================] - 0s 2ms/step - loss: 0.0381 - accuracy: 0.9922\n"
          ],
          "name": "stdout"
        },
        {
          "output_type": "execute_result",
          "data": {
            "text/plain": [
              "<tensorflow.python.keras.callbacks.History at 0x7f894013da58>"
            ]
          },
          "metadata": {
            "tags": []
          },
          "execution_count": 34
        }
      ]
    },
    {
      "cell_type": "code",
      "metadata": {
        "id": "Q_sZAjQHYioR",
        "colab_type": "code",
        "colab": {
          "base_uri": "https://localhost:8080/",
          "height": 246
        },
        "outputId": "35687f8c-5f6c-452f-e54e-caccca1d0c55"
      },
      "source": [
        "X_test"
      ],
      "execution_count": 35,
      "outputs": [
        {
          "output_type": "execute_result",
          "data": {
            "text/plain": [
              "array([[-0.20813312,  0.29431013, -0.13944326, ...,  1.35620942,\n",
              "         1.08282676,  1.50534354],\n",
              "       [-0.26189423,  1.39743106, -0.3255555 , ..., -0.83852283,\n",
              "        -0.73469319, -0.8855347 ],\n",
              "       [-0.0327021 , -0.83912914, -0.10049907, ..., -0.50397936,\n",
              "        -1.22531207, -0.92888396],\n",
              "       ...,\n",
              "       [-0.47410917,  0.14738282, -0.47600306, ..., -0.59340278,\n",
              "        -0.35079984, -0.34311323],\n",
              "       [-0.75423289, -0.7528385 , -0.77976775, ..., -0.75636222,\n",
              "        -0.08637538,  0.21209071],\n",
              "       [-0.79667588,  1.82421992, -0.83142005, ..., -1.43195543,\n",
              "        -0.08956122, -0.71936255]])"
            ]
          },
          "metadata": {
            "tags": []
          },
          "execution_count": 35
        }
      ]
    },
    {
      "cell_type": "code",
      "metadata": {
        "id": "l9Ycq73TUrM7",
        "colab_type": "code",
        "colab": {}
      },
      "source": [
        "y_pred = classifier.predict(X_test)\n",
        "y_pred=(y_pred>0.5)"
      ],
      "execution_count": 36,
      "outputs": []
    },
    {
      "cell_type": "code",
      "metadata": {
        "id": "1e2nlLGfUufD",
        "colab_type": "code",
        "colab": {}
      },
      "source": [
        "from sklearn.metrics import confusion_matrix\n",
        "cm = confusion_matrix(y_test,y_pred)"
      ],
      "execution_count": 37,
      "outputs": []
    },
    {
      "cell_type": "code",
      "metadata": {
        "id": "sbfwfBjOY1hQ",
        "colab_type": "code",
        "colab": {
          "base_uri": "https://localhost:8080/",
          "height": 286
        },
        "outputId": "5259f0e4-1948-4c74-f59e-ad653b2dfd49"
      },
      "source": [
        "sns.heatmap(cm,annot=True)"
      ],
      "execution_count": 38,
      "outputs": [
        {
          "output_type": "execute_result",
          "data": {
            "text/plain": [
              "<matplotlib.axes._subplots.AxesSubplot at 0x7f8947555320>"
            ]
          },
          "metadata": {
            "tags": []
          },
          "execution_count": 38
        },
        {
          "output_type": "display_data",
          "data": {
            "image/png": "[encoded data removed]",
            "text/plain": [
              "<Figure size 432x288 with 2 Axes>"
            ]
          },
          "metadata": {
            "tags": [],
            "needs_background": "light"
          }
        }
      ]
    },
    {
      "cell_type": "code",
      "metadata": {
        "id": "YXEoERCPY8e_",
        "colab_type": "code",
        "colab": {}
      },
      "source": [
        ""
      ],
      "execution_count": null,
      "outputs": []
    }
  ]
}